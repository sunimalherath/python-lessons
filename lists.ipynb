{
 "cells": [
  {
   "cell_type": "markdown",
   "metadata": {},
   "source": [
    "# Lessons learning from Head First Python book"
   ]
  },
  {
   "cell_type": "code",
   "execution_count": 5,
   "metadata": {},
   "outputs": [
    {
     "name": "stdout",
     "output_type": "stream",
     "text": [
      "Head first python\n",
      "2016\n",
      "['Chapter 1', 'Chapter 2']\n",
      "Coloured\n"
     ]
    }
   ],
   "source": [
    "my_list = ['Head first python', 2016, ['Chapter 1', 'Chapter 2'], 'Coloured']\n",
    "#print(my_list)\n",
    "\n",
    "for each_item in my_list:\n",
    "    print(each_item)"
   ]
  },
  {
   "cell_type": "code",
   "execution_count": null,
   "metadata": {},
   "outputs": [],
   "source": [
    "def print_lol(the_list):\n",
    "    for each_item in the_list:\n",
    "        if isinstance(each_item, list):\n",
    "            print_lol(each_item)\n",
    "        else:\n",
    "            print(each_item)"
   ]
  },
  {
   "cell_type": "code",
   "execution_count": 6,
   "metadata": {},
   "outputs": [
    {
     "name": "stdout",
     "output_type": "stream",
     "text": [
      "Head first python\n",
      "2016\n",
      "Chapter 1\n",
      "Chapter 2\n",
      "Coloured\n"
     ]
    }
   ],
   "source": [
    "print_lol(my_list)"
   ]
  },
  {
   "cell_type": "markdown",
   "metadata": {},
   "source": [
    "Just printing the list (i.e: my_list), prints nested lists as it is. \n",
    "\n",
    "To overcome this create a function that accepts a list (i.e: any list with or without nested lists) and prints even the items in the nested list. \n",
    "\n",
    "'isinstance()' BIF in python lets you to see if a contents of certain variable is a given data type in Python (i.e: checks if the passing list is a list. if it's a list, then call the fuction again to prints its items)"
   ]
  },
  {
   "cell_type": "markdown",
   "metadata": {},
   "source": [
    "## Creating a module for the function (i.e: print_lol) in order to use it in other applications."
   ]
  },
  {
   "cell_type": "markdown",
   "metadata": {},
   "source": [
    "### 1. Creating a folder for the module."
   ]
  },
  {
   "cell_type": "markdown",
   "metadata": {},
   "source": [
    "Add the python file to the folder."
   ]
  },
  {
   "cell_type": "markdown",
   "metadata": {},
   "source": [
    "### 2. Create a setup file (i.e: 'setup.py')"
   ]
  }
 ],
 "metadata": {
  "kernelspec": {
   "display_name": "Python 3",
   "language": "python",
   "name": "python3"
  },
  "language_info": {
   "codemirror_mode": {
    "name": "ipython",
    "version": 3
   },
   "file_extension": ".py",
   "mimetype": "text/x-python",
   "name": "python",
   "nbconvert_exporter": "python",
   "pygments_lexer": "ipython3",
   "version": "3.7.4"
  }
 },
 "nbformat": 4,
 "nbformat_minor": 2
}
