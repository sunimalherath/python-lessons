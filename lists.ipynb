{
 "cells": [
  {
   "cell_type": "markdown",
   "metadata": {},
   "source": [
    "# Lessons learning from Head First Python book"
   ]
  },
  {
   "cell_type": "code",
   "execution_count": 5,
   "metadata": {},
   "outputs": [
    {
     "name": "stdout",
     "output_type": "stream",
     "text": [
      "Head first python\n",
      "2016\n",
      "['Chapter 1', 'Chapter 2']\n",
      "Coloured\n"
     ]
    }
   ],
   "source": [
    "my_list = ['Head first python', 2016, ['Chapter 1', 'Chapter 2'], 'Coloured']\n",
    "#print(my_list)\n",
    "\n",
    "for each_item in my_list:\n",
    "    print(each_item)"
   ]
  },
  {
   "cell_type": "code",
   "execution_count": null,
   "metadata": {},
   "outputs": [],
   "source": [
    "def print_lol(the_list):\n",
    "    for each_item in the_list:\n",
    "        if isinstance(each_item, list):\n",
    "            print_lol(each_item)\n",
    "        else:\n",
    "            print(each_item)"
   ]
  },
  {
   "cell_type": "code",
   "execution_count": 6,
   "metadata": {},
   "outputs": [
    {
     "name": "stdout",
     "output_type": "stream",
     "text": [
      "Head first python\n",
      "2016\n",
      "Chapter 1\n",
      "Chapter 2\n",
      "Coloured\n"
     ]
    }
   ],
   "source": [
    "print_lol(my_list)"
   ]
  },
  {
   "cell_type": "code",
   "execution_count": 7,
   "metadata": {},
   "outputs": [
    {
     "name": "stdout",
     "output_type": "stream",
     "text": [
      "Head first python\n",
      "2016\n",
      "Chapter 1\n",
      "Chapter 2\n",
      "Coloured\n"
     ]
    }
   ],
   "source": [
    "print_lol(my_list)\n",
    "\n",
    "\n",
    "\n"
   ]
  },
  {
   "cell_type": "markdown",
   "metadata": {},
   "source": [
    "Just printing the list (i.e: my_list), prints nested lists as it is. \n",
    "\n",
    "To overcome this create a function that accepts a list (i.e: any list with or without nested lists) and prints even the items in the nested list. \n",
    "\n",
    "'isinstance()' BIF in python lets you to see if a contents of certain variable is a given data type in Python (i.e: checks if the passing list is a list. if it's a list, then call the fuction again to prints its items)"
   ]
  },
  {
   "cell_type": "markdown",
   "metadata": {},
   "source": [
    "# Creating a module for the function (i.e: print_lol) in order to use it in other applications.\n",
    "\n",
    "### 1. Creating a folder for the module."
   ]
  },
  {
   "cell_type": "markdown",
   "metadata": {},
   "source": [
    "Add the python file to the folder (i.e: nester.py)"
   ]
  },
  {
   "cell_type": "markdown",
   "metadata": {},
   "source": [
    "### 2. Create a setup file (i.e: 'setup.py')"
   ]
  },
  {
   "cell_type": "raw",
   "metadata": {},
   "source": [
    "from distutils.core import setup\n",
    "\n",
    "setup(\n",
    "    name=\"nester\",\n",
    "    version=\"1.0.0\",\n",
    "    py_modules=[\"nester\"],\n",
    "    author=\"hfpython\",\n",
    "    author_email=\"\",\n",
    "    url=\"\",\n",
    "    description=\"A simple printer of nested lists\",\n",
    ")"
   ]
  },
  {
   "cell_type": "markdown",
   "metadata": {},
   "source": [
    "### 3. Build a distribution file"
   ]
  },
  {
   "cell_type": "raw",
   "metadata": {},
   "source": [
    "$ python3 setup.py sdist"
   ]
  },
  {
   "cell_type": "markdown",
   "metadata": {},
   "source": [
    "### 4. Install the distribution into the local copy of Python."
   ]
  },
  {
   "cell_type": "raw",
   "metadata": {},
   "source": [
    "$ python3 setup.py install"
   ]
  },
  {
   "cell_type": "markdown",
   "metadata": {},
   "source": [
    "## Working with files"
   ]
  },
  {
   "cell_type": "code",
   "execution_count": 11,
   "metadata": {},
   "outputs": [
    {
     "name": "stdout",
     "output_type": "stream",
     "text": [
      "Man said:  Is this the right room for an argument?\n",
      "Other Man said:  I've told you once.\n",
      "Man said:  No you haven't!\n",
      "Other Man said:  Yes I have.\n",
      "Man said:  When?\n",
      "Other Man said:  Just now.\n",
      "Man said:  No you didn't!\n",
      "Other Man said:  Yes I did!\n",
      "Man said:  You didn't!\n",
      "Other Man said:  I'm telling you, I did!\n",
      "Man said:  You did not!\n",
      "Other Man said:  Oh I'm sorry, is this a five minute argument, or the full half hour?\n",
      "Man said:  Ah! (taking out his wallet and paying) Just the five minutes.\n",
      "Other Man said:  Just the five minutes. Thank you.\n",
      "Other Man said:  Anyway, I did.\n",
      "Man said:  You most certainly did not!\n",
      "Other Man said:  Now let's get one thing quite clear: I most definitely told you!\n",
      "Man said:  Oh no you didn't!\n",
      "Other Man said:  Oh yes I did!\n",
      "Man said:  Oh no you didn't!\n",
      "Other Man said:  Oh yes I did!\n",
      "Man said:  Oh look, this isn't an argument!\n"
     ]
    }
   ],
   "source": [
    "try:\n",
    "    data = open('sketch.txt')\n",
    "\n",
    "    try:\n",
    "        for each_line in data:\n",
    "            (role, line_spoken) = each_line.split(':', 1)\n",
    "            print(role, end='')\n",
    "            print(' said: ', end='')\n",
    "            print(line_spoken, end='')\n",
    "\n",
    "        data.close()\n",
    "    except ValueError:\n",
    "        pass\n",
    "except IOError:\n",
    "    print('The data file is missing')"
   ]
  },
  {
   "cell_type": "markdown",
   "metadata": {},
   "source": [
    "### Saving data to files"
   ]
  },
  {
   "cell_type": "markdown",
   "metadata": {},
   "source": [
    "Saving above split data into 2 different files"
   ]
  },
  {
   "cell_type": "code",
   "execution_count": 16,
   "metadata": {},
   "outputs": [],
   "source": [
    "man = []\n",
    "other = []\n",
    "\n",
    "try:\n",
    "    data = open('sketch.txt')\n",
    "    \n",
    "    for each_line in data:\n",
    "        try:\n",
    "            (role, line_spoken) = each_line.split(':', 1)\n",
    "            line_spoken = line_spoken.strip()\n",
    "\n",
    "            if role == 'Man':\n",
    "                man.append(line_spoken)\n",
    "            elif role == 'Other Man':\n",
    "                other.append(line_spoken)\n",
    "        except ValueError:\n",
    "            pass\n",
    "except IOError:\n",
    "    print('The data file is missing')\n",
    "finally:\n",
    "    data.close()\n",
    "    \n",
    "try:\n",
    "    man_file = open('man_data.txt', \"w\")\n",
    "    other_file = open('other_data.txt', \"w\")\n",
    "    \n",
    "    print(man, file=man_file)\n",
    "    print(other, file=other_file)\n",
    "except IOError:\n",
    "    print('File error')"
   ]
  },
  {
   "cell_type": "code",
   "execution_count": null,
   "metadata": {},
   "outputs": [],
   "source": []
  }
 ],
 "metadata": {
  "kernelspec": {
   "display_name": "Python 3",
   "language": "python",
   "name": "python3"
  },
  "language_info": {
   "codemirror_mode": {
    "name": "ipython",
    "version": 3
   },
   "file_extension": ".py",
   "mimetype": "text/x-python",
   "name": "python",
   "nbconvert_exporter": "python",
   "pygments_lexer": "ipython3",
   "version": "3.7.4"
  }
 },
 "nbformat": 4,
 "nbformat_minor": 2
}
